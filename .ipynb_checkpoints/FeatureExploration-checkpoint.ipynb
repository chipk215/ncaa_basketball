{
 "cells": [
  {
   "cell_type": "code",
   "execution_count": 2,
   "metadata": {},
   "outputs": [
    {
     "name": "stdout",
     "output_type": "stream",
     "text": [
      "Seaborn version:  0.9.0\n"
     ]
    }
   ],
   "source": [
    "import pandas as pd\n",
    "import numpy as np\n",
    "import matplotlib.pyplot as plt\n",
    "import seaborn as sns\n",
    "%matplotlib inline\n",
    "print(\"Seaborn version: \", sns.__version__)"
   ]
  },
  {
   "cell_type": "code",
   "execution_count": 3,
   "metadata": {},
   "outputs": [
    {
     "name": "stdout",
     "output_type": "stream",
     "text": [
      "Number of records=  5149\n"
     ]
    },
    {
     "data": {
      "text/html": [
       "<div>\n",
       "<style scoped>\n",
       "    .dataframe tbody tr th:only-of-type {\n",
       "        vertical-align: middle;\n",
       "    }\n",
       "\n",
       "    .dataframe tbody tr th {\n",
       "        vertical-align: top;\n",
       "    }\n",
       "\n",
       "    .dataframe thead th {\n",
       "        text-align: right;\n",
       "    }\n",
       "</style>\n",
       "<table border=\"1\" class=\"dataframe\">\n",
       "  <thead>\n",
       "    <tr style=\"text-align: right;\">\n",
       "      <th></th>\n",
       "      <th>game_id</th>\n",
       "      <th>game_date</th>\n",
       "      <th>principal_team</th>\n",
       "      <th>opponent_team</th>\n",
       "      <th>home_team</th>\n",
       "      <th>principal_score</th>\n",
       "      <th>opponent_score</th>\n",
       "      <th>delta_avg_points_per_game</th>\n",
       "      <th>delta_field_goals_pct</th>\n",
       "      <th>delta_avg_off_rebounds</th>\n",
       "      <th>delta_avg_free_throws_att</th>\n",
       "      <th>delta_avg_free_throws_pct</th>\n",
       "      <th>delta_avg_turnovers</th>\n",
       "      <th>delta_win_pct</th>\n",
       "      <th>game_result</th>\n",
       "    </tr>\n",
       "  </thead>\n",
       "  <tbody>\n",
       "    <tr>\n",
       "      <th>0</th>\n",
       "      <td>59217c6a-34da-48ef-8753-a7b1e5bb5998</td>\n",
       "      <td>2015-11-15</td>\n",
       "      <td>UNC Asheville</td>\n",
       "      <td>Western Carolina</td>\n",
       "      <td>False</td>\n",
       "      <td>81</td>\n",
       "      <td>90</td>\n",
       "      <td>6.0</td>\n",
       "      <td>0.075</td>\n",
       "      <td>-3.0</td>\n",
       "      <td>4.0</td>\n",
       "      <td>-0.008</td>\n",
       "      <td>2.0</td>\n",
       "      <td>0.0</td>\n",
       "      <td>LOSS</td>\n",
       "    </tr>\n",
       "    <tr>\n",
       "      <th>1</th>\n",
       "      <td>1bb9c45c-80e8-40e4-80f3-84a795135434</td>\n",
       "      <td>2015-11-15</td>\n",
       "      <td>South Dakota</td>\n",
       "      <td>Cal State Northridge</td>\n",
       "      <td>True</td>\n",
       "      <td>76</td>\n",
       "      <td>72</td>\n",
       "      <td>-4.0</td>\n",
       "      <td>-0.041</td>\n",
       "      <td>-5.0</td>\n",
       "      <td>-13.0</td>\n",
       "      <td>0.111</td>\n",
       "      <td>1.0</td>\n",
       "      <td>0.0</td>\n",
       "      <td>WIN</td>\n",
       "    </tr>\n",
       "    <tr>\n",
       "      <th>2</th>\n",
       "      <td>347c62d0-c3ca-4688-9fa0-aa21fa5746f9</td>\n",
       "      <td>2015-11-15</td>\n",
       "      <td>Wright State</td>\n",
       "      <td>Cal State Northridge</td>\n",
       "      <td>True</td>\n",
       "      <td>67</td>\n",
       "      <td>72</td>\n",
       "      <td>6.0</td>\n",
       "      <td>-0.052</td>\n",
       "      <td>-7.0</td>\n",
       "      <td>-6.0</td>\n",
       "      <td>0.276</td>\n",
       "      <td>-5.0</td>\n",
       "      <td>1.0</td>\n",
       "      <td>LOSS</td>\n",
       "    </tr>\n",
       "    <tr>\n",
       "      <th>3</th>\n",
       "      <td>2bb9a40e-50d9-4a5b-95a5-a49e609df45f</td>\n",
       "      <td>2015-11-15</td>\n",
       "      <td>Northern Illinois</td>\n",
       "      <td>Wright State</td>\n",
       "      <td>True</td>\n",
       "      <td>65</td>\n",
       "      <td>59</td>\n",
       "      <td>0.5</td>\n",
       "      <td>0.030</td>\n",
       "      <td>8.5</td>\n",
       "      <td>1.5</td>\n",
       "      <td>-0.144</td>\n",
       "      <td>4.0</td>\n",
       "      <td>0.0</td>\n",
       "      <td>WIN</td>\n",
       "    </tr>\n",
       "    <tr>\n",
       "      <th>4</th>\n",
       "      <td>07c058c3-ad3c-4af0-a78a-feeda651785e</td>\n",
       "      <td>2015-11-15</td>\n",
       "      <td>Clemson</td>\n",
       "      <td>UTSA</td>\n",
       "      <td>True</td>\n",
       "      <td>78</td>\n",
       "      <td>45</td>\n",
       "      <td>10.0</td>\n",
       "      <td>0.011</td>\n",
       "      <td>-1.0</td>\n",
       "      <td>7.0</td>\n",
       "      <td>-0.005</td>\n",
       "      <td>-17.0</td>\n",
       "      <td>1.0</td>\n",
       "      <td>WIN</td>\n",
       "    </tr>\n",
       "  </tbody>\n",
       "</table>\n",
       "</div>"
      ],
      "text/plain": [
       "                                game_id   game_date     principal_team  \\\n",
       "0  59217c6a-34da-48ef-8753-a7b1e5bb5998  2015-11-15      UNC Asheville   \n",
       "1  1bb9c45c-80e8-40e4-80f3-84a795135434  2015-11-15       South Dakota   \n",
       "2  347c62d0-c3ca-4688-9fa0-aa21fa5746f9  2015-11-15       Wright State   \n",
       "3  2bb9a40e-50d9-4a5b-95a5-a49e609df45f  2015-11-15  Northern Illinois   \n",
       "4  07c058c3-ad3c-4af0-a78a-feeda651785e  2015-11-15            Clemson   \n",
       "\n",
       "          opponent_team  home_team  principal_score  opponent_score  \\\n",
       "0      Western Carolina      False               81              90   \n",
       "1  Cal State Northridge       True               76              72   \n",
       "2  Cal State Northridge       True               67              72   \n",
       "3          Wright State       True               65              59   \n",
       "4                  UTSA       True               78              45   \n",
       "\n",
       "   delta_avg_points_per_game  delta_field_goals_pct  delta_avg_off_rebounds  \\\n",
       "0                        6.0                  0.075                    -3.0   \n",
       "1                       -4.0                 -0.041                    -5.0   \n",
       "2                        6.0                 -0.052                    -7.0   \n",
       "3                        0.5                  0.030                     8.5   \n",
       "4                       10.0                  0.011                    -1.0   \n",
       "\n",
       "   delta_avg_free_throws_att  delta_avg_free_throws_pct  delta_avg_turnovers  \\\n",
       "0                        4.0                     -0.008                  2.0   \n",
       "1                      -13.0                      0.111                  1.0   \n",
       "2                       -6.0                      0.276                 -5.0   \n",
       "3                        1.5                     -0.144                  4.0   \n",
       "4                        7.0                     -0.005                -17.0   \n",
       "\n",
       "   delta_win_pct game_result  \n",
       "0            0.0        LOSS  \n",
       "1            0.0         WIN  \n",
       "2            1.0        LOSS  \n",
       "3            0.0         WIN  \n",
       "4            1.0         WIN  "
      ]
     },
     "execution_count": 3,
     "metadata": {},
     "output_type": "execute_result"
    }
   ],
   "source": [
    "game_data = pd.read_csv('D1_2015_Processed_Stats.csv')\n",
    "print(\"Number of records= \", game_data.shape[0])\n",
    "game_data.head()\n",
    "#game_data.info()"
   ]
  },
  {
   "cell_type": "code",
   "execution_count": 5,
   "metadata": {},
   "outputs": [
    {
     "data": {
      "text/html": [
       "<div>\n",
       "<style scoped>\n",
       "    .dataframe tbody tr th:only-of-type {\n",
       "        vertical-align: middle;\n",
       "    }\n",
       "\n",
       "    .dataframe tbody tr th {\n",
       "        vertical-align: top;\n",
       "    }\n",
       "\n",
       "    .dataframe thead th {\n",
       "        text-align: right;\n",
       "    }\n",
       "</style>\n",
       "<table border=\"1\" class=\"dataframe\">\n",
       "  <thead>\n",
       "    <tr style=\"text-align: right;\">\n",
       "      <th></th>\n",
       "      <th>principal_score</th>\n",
       "      <th>opponent_score</th>\n",
       "      <th>delta_avg_points_per_game</th>\n",
       "      <th>delta_field_goals_pct</th>\n",
       "      <th>delta_avg_off_rebounds</th>\n",
       "      <th>delta_avg_free_throws_att</th>\n",
       "      <th>delta_avg_free_throws_pct</th>\n",
       "      <th>delta_avg_turnovers</th>\n",
       "      <th>delta_win_pct</th>\n",
       "    </tr>\n",
       "  </thead>\n",
       "  <tbody>\n",
       "    <tr>\n",
       "      <th>count</th>\n",
       "      <td>5149.000000</td>\n",
       "      <td>5149.000000</td>\n",
       "      <td>5149.000000</td>\n",
       "      <td>5149.000000</td>\n",
       "      <td>5149.000000</td>\n",
       "      <td>5149.000000</td>\n",
       "      <td>5149.000000</td>\n",
       "      <td>5149.000000</td>\n",
       "      <td>5149.000000</td>\n",
       "    </tr>\n",
       "    <tr>\n",
       "      <th>mean</th>\n",
       "      <td>72.380268</td>\n",
       "      <td>72.368227</td>\n",
       "      <td>-0.136139</td>\n",
       "      <td>-0.000780</td>\n",
       "      <td>0.019842</td>\n",
       "      <td>0.025055</td>\n",
       "      <td>-0.000613</td>\n",
       "      <td>0.003747</td>\n",
       "      <td>0.000102</td>\n",
       "    </tr>\n",
       "    <tr>\n",
       "      <th>std</th>\n",
       "      <td>12.207601</td>\n",
       "      <td>12.427285</td>\n",
       "      <td>9.659450</td>\n",
       "      <td>0.049404</td>\n",
       "      <td>2.767151</td>\n",
       "      <td>5.255297</td>\n",
       "      <td>0.071905</td>\n",
       "      <td>2.456641</td>\n",
       "      <td>0.322479</td>\n",
       "    </tr>\n",
       "    <tr>\n",
       "      <th>min</th>\n",
       "      <td>33.000000</td>\n",
       "      <td>25.000000</td>\n",
       "      <td>-59.000000</td>\n",
       "      <td>-0.300000</td>\n",
       "      <td>-15.000000</td>\n",
       "      <td>-31.000000</td>\n",
       "      <td>-0.424000</td>\n",
       "      <td>-17.000000</td>\n",
       "      <td>-1.000000</td>\n",
       "    </tr>\n",
       "    <tr>\n",
       "      <th>25%</th>\n",
       "      <td>64.000000</td>\n",
       "      <td>64.000000</td>\n",
       "      <td>-6.200000</td>\n",
       "      <td>-0.029694</td>\n",
       "      <td>-1.652174</td>\n",
       "      <td>-3.052632</td>\n",
       "      <td>-0.043143</td>\n",
       "      <td>-1.457143</td>\n",
       "      <td>-0.196970</td>\n",
       "    </tr>\n",
       "    <tr>\n",
       "      <th>50%</th>\n",
       "      <td>72.000000</td>\n",
       "      <td>72.000000</td>\n",
       "      <td>-0.399038</td>\n",
       "      <td>-0.001138</td>\n",
       "      <td>0.000000</td>\n",
       "      <td>0.000000</td>\n",
       "      <td>-0.001460</td>\n",
       "      <td>-0.029412</td>\n",
       "      <td>0.000000</td>\n",
       "    </tr>\n",
       "    <tr>\n",
       "      <th>75%</th>\n",
       "      <td>80.000000</td>\n",
       "      <td>80.000000</td>\n",
       "      <td>5.813187</td>\n",
       "      <td>0.027038</td>\n",
       "      <td>1.686667</td>\n",
       "      <td>3.095238</td>\n",
       "      <td>0.042188</td>\n",
       "      <td>1.422609</td>\n",
       "      <td>0.183333</td>\n",
       "    </tr>\n",
       "    <tr>\n",
       "      <th>max</th>\n",
       "      <td>119.000000</td>\n",
       "      <td>125.000000</td>\n",
       "      <td>79.000000</td>\n",
       "      <td>0.306000</td>\n",
       "      <td>12.000000</td>\n",
       "      <td>33.000000</td>\n",
       "      <td>0.683500</td>\n",
       "      <td>14.000000</td>\n",
       "      <td>1.000000</td>\n",
       "    </tr>\n",
       "  </tbody>\n",
       "</table>\n",
       "</div>"
      ],
      "text/plain": [
       "       principal_score  opponent_score  delta_avg_points_per_game  \\\n",
       "count      5149.000000     5149.000000                5149.000000   \n",
       "mean         72.380268       72.368227                  -0.136139   \n",
       "std          12.207601       12.427285                   9.659450   \n",
       "min          33.000000       25.000000                 -59.000000   \n",
       "25%          64.000000       64.000000                  -6.200000   \n",
       "50%          72.000000       72.000000                  -0.399038   \n",
       "75%          80.000000       80.000000                   5.813187   \n",
       "max         119.000000      125.000000                  79.000000   \n",
       "\n",
       "       delta_field_goals_pct  delta_avg_off_rebounds  \\\n",
       "count            5149.000000             5149.000000   \n",
       "mean               -0.000780                0.019842   \n",
       "std                 0.049404                2.767151   \n",
       "min                -0.300000              -15.000000   \n",
       "25%                -0.029694               -1.652174   \n",
       "50%                -0.001138                0.000000   \n",
       "75%                 0.027038                1.686667   \n",
       "max                 0.306000               12.000000   \n",
       "\n",
       "       delta_avg_free_throws_att  delta_avg_free_throws_pct  \\\n",
       "count                5149.000000                5149.000000   \n",
       "mean                    0.025055                  -0.000613   \n",
       "std                     5.255297                   0.071905   \n",
       "min                   -31.000000                  -0.424000   \n",
       "25%                    -3.052632                  -0.043143   \n",
       "50%                     0.000000                  -0.001460   \n",
       "75%                     3.095238                   0.042188   \n",
       "max                    33.000000                   0.683500   \n",
       "\n",
       "       delta_avg_turnovers  delta_win_pct  \n",
       "count          5149.000000    5149.000000  \n",
       "mean              0.003747       0.000102  \n",
       "std               2.456641       0.322479  \n",
       "min             -17.000000      -1.000000  \n",
       "25%              -1.457143      -0.196970  \n",
       "50%              -0.029412       0.000000  \n",
       "75%               1.422609       0.183333  \n",
       "max              14.000000       1.000000  "
      ]
     },
     "execution_count": 5,
     "metadata": {},
     "output_type": "execute_result"
    }
   ],
   "source": [
    "game_data.describe()"
   ]
  },
  {
   "cell_type": "code",
   "execution_count": 4,
   "metadata": {},
   "outputs": [
    {
     "data": {
      "text/plain": [
       "LOSS    2606\n",
       "WIN     2543\n",
       "Name: game_result, dtype: int64"
      ]
     },
     "execution_count": 4,
     "metadata": {},
     "output_type": "execute_result"
    }
   ],
   "source": [
    "# How many games with win game_result = 1?\n",
    "game_data['game_result'].value_counts()"
   ]
  },
  {
   "cell_type": "code",
   "execution_count": 6,
   "metadata": {},
   "outputs": [
    {
     "data": {
      "text/plain": [
       "<matplotlib.axes._subplots.AxesSubplot at 0x19a82541f28>"
      ]
     },
     "execution_count": 6,
     "metadata": {},
     "output_type": "execute_result"
    },
    {
     "data": {
      "image/png": "[encoded data removed]",
      "text/plain": [
       "<Figure size 432x288 with 1 Axes>"
      ]
     },
     "metadata": {},
     "output_type": "display_data"
    }
   ],
   "source": [
    "#sns.set(style=\"whitegrid\")\n",
    "sns.boxplot(x=\"game_result\", y=\"delta_avg_points_per_game\",data =game_data, palette=\"Set3\")"
   ]
  },
  {
   "cell_type": "code",
   "execution_count": 7,
   "metadata": {},
   "outputs": [
    {
     "data": {
      "text/plain": [
       "<matplotlib.axes._subplots.AxesSubplot at 0x19a838cb5f8>"
      ]
     },
     "execution_count": 7,
     "metadata": {},
     "output_type": "execute_result"
    },
    {
     "data": {
      "image/png": "[encoded data removed]",
      "text/plain": [
       "<Figure size 432x288 with 1 Axes>"
      ]
     },
     "metadata": {},
     "output_type": "display_data"
    }
   ],
   "source": [
    "sns.boxplot(x=\"game_result\", y=\"delta_avg_off_rebounds\",data =game_data, palette=\"Set3\")"
   ]
  },
  {
   "cell_type": "code",
   "execution_count": 9,
   "metadata": {},
   "outputs": [
    {
     "data": {
      "text/plain": [
       "<matplotlib.axes._subplots.AxesSubplot at 0x19a839b42b0>"
      ]
     },
     "execution_count": 9,
     "metadata": {},
     "output_type": "execute_result"
    },
    {
     "data": {
      "image/png": "[encoded data removed]",
      "text/plain": [
       "<Figure size 432x288 with 1 Axes>"
      ]
     },
     "metadata": {},
     "output_type": "display_data"
    }
   ],
   "source": [
    "sns.boxplot(x=\"game_result\", y=\"delta_avg_free_throws_att\",data =game_data, palette=\"Set3\")"
   ]
  },
  {
   "cell_type": "code",
   "execution_count": 10,
   "metadata": {},
   "outputs": [
    {
     "data": {
      "text/plain": [
       "<matplotlib.axes._subplots.AxesSubplot at 0x19a83a1df60>"
      ]
     },
     "execution_count": 10,
     "metadata": {},
     "output_type": "execute_result"
    },
    {
     "data": {
      "image/png": "[encoded data removed]",
      "text/plain": [
       "<Figure size 432x288 with 1 Axes>"
      ]
     },
     "metadata": {},
     "output_type": "display_data"
    }
   ],
   "source": [
    "sns.boxplot(x=\"game_result\", y=\"delta_avg_free_throws_pct\",data =game_data, palette=\"Set3\")"
   ]
  },
  {
   "cell_type": "code",
   "execution_count": 12,
   "metadata": {},
   "outputs": [
    {
     "data": {
      "text/plain": [
       "<matplotlib.axes._subplots.AxesSubplot at 0x19a83ce27f0>"
      ]
     },
     "execution_count": 12,
     "metadata": {},
     "output_type": "execute_result"
    },
    {
     "data": {
      "image/png": "[encoded data removed]",
      "text/plain": [
       "<Figure size 432x288 with 1 Axes>"
      ]
     },
     "metadata": {},
     "output_type": "display_data"
    }
   ],
   "source": [
    "sns.boxplot(x=\"game_result\", y=\"delta_avg_turnovers\",data =game_data, palette=\"Set3\")"
   ]
  },
  {
   "cell_type": "code",
   "execution_count": 13,
   "metadata": {},
   "outputs": [
    {
     "data": {
      "text/plain": [
       "<matplotlib.axes._subplots.AxesSubplot at 0x19a83d34208>"
      ]
     },
     "execution_count": 13,
     "metadata": {},
     "output_type": "execute_result"
    },
    {
     "data": {
      "image/png": "[encoded data removed]",
      "text/plain": [
       "<Figure size 432x288 with 1 Axes>"
      ]
     },
     "metadata": {},
     "output_type": "display_data"
    }
   ],
   "source": [
    "sns.boxplot(x=\"game_result\", y=\"delta_field_goals_pct\",data =game_data, palette=\"Set3\")"
   ]
  },
  {
   "cell_type": "code",
   "execution_count": 31,
   "metadata": {},
   "outputs": [
    {
     "data": {
      "text/html": [
       "<div>\n",
       "<style scoped>\n",
       "    .dataframe tbody tr th:only-of-type {\n",
       "        vertical-align: middle;\n",
       "    }\n",
       "\n",
       "    .dataframe tbody tr th {\n",
       "        vertical-align: top;\n",
       "    }\n",
       "\n",
       "    .dataframe thead th {\n",
       "        text-align: right;\n",
       "    }\n",
       "</style>\n",
       "<table border=\"1\" class=\"dataframe\">\n",
       "  <thead>\n",
       "    <tr style=\"text-align: right;\">\n",
       "      <th></th>\n",
       "      <th>game_id</th>\n",
       "      <th>game_date</th>\n",
       "      <th>principal_team</th>\n",
       "      <th>opponent_team</th>\n",
       "      <th>principal_score</th>\n",
       "      <th>opponent_score</th>\n",
       "      <th>delta_avg_points_per_game</th>\n",
       "      <th>delta_field_goals_pct</th>\n",
       "      <th>delta_avg_off_rebounds</th>\n",
       "      <th>delta_avg_free_throws_att</th>\n",
       "      <th>delta_avg_free_throws_pct</th>\n",
       "      <th>delta_avg_turnovers</th>\n",
       "      <th>delta_win_pct</th>\n",
       "      <th>game_result</th>\n",
       "    </tr>\n",
       "    <tr>\n",
       "      <th>home_team</th>\n",
       "      <th></th>\n",
       "      <th></th>\n",
       "      <th></th>\n",
       "      <th></th>\n",
       "      <th></th>\n",
       "      <th></th>\n",
       "      <th></th>\n",
       "      <th></th>\n",
       "      <th></th>\n",
       "      <th></th>\n",
       "      <th></th>\n",
       "      <th></th>\n",
       "      <th></th>\n",
       "      <th></th>\n",
       "    </tr>\n",
       "  </thead>\n",
       "  <tbody>\n",
       "    <tr>\n",
       "      <th>False</th>\n",
       "      <td>923</td>\n",
       "      <td>923</td>\n",
       "      <td>923</td>\n",
       "      <td>923</td>\n",
       "      <td>923</td>\n",
       "      <td>923</td>\n",
       "      <td>923</td>\n",
       "      <td>923</td>\n",
       "      <td>923</td>\n",
       "      <td>923</td>\n",
       "      <td>923</td>\n",
       "      <td>923</td>\n",
       "      <td>923</td>\n",
       "      <td>923</td>\n",
       "    </tr>\n",
       "    <tr>\n",
       "      <th>True</th>\n",
       "      <td>1620</td>\n",
       "      <td>1620</td>\n",
       "      <td>1620</td>\n",
       "      <td>1620</td>\n",
       "      <td>1620</td>\n",
       "      <td>1620</td>\n",
       "      <td>1620</td>\n",
       "      <td>1620</td>\n",
       "      <td>1620</td>\n",
       "      <td>1620</td>\n",
       "      <td>1620</td>\n",
       "      <td>1620</td>\n",
       "      <td>1620</td>\n",
       "      <td>1620</td>\n",
       "    </tr>\n",
       "  </tbody>\n",
       "</table>\n",
       "</div>"
      ],
      "text/plain": [
       "           game_id  game_date  principal_team  opponent_team  principal_score  \\\n",
       "home_team                                                                       \n",
       "False          923        923             923            923              923   \n",
       "True          1620       1620            1620           1620             1620   \n",
       "\n",
       "           opponent_score  delta_avg_points_per_game  delta_field_goals_pct  \\\n",
       "home_team                                                                     \n",
       "False                 923                        923                    923   \n",
       "True                 1620                       1620                   1620   \n",
       "\n",
       "           delta_avg_off_rebounds  delta_avg_free_throws_att  \\\n",
       "home_team                                                      \n",
       "False                         923                        923   \n",
       "True                         1620                       1620   \n",
       "\n",
       "           delta_avg_free_throws_pct  delta_avg_turnovers  delta_win_pct  \\\n",
       "home_team                                                                  \n",
       "False                            923                  923            923   \n",
       "True                            1620                 1620           1620   \n",
       "\n",
       "           game_result  \n",
       "home_team               \n",
       "False              923  \n",
       "True              1620  "
      ]
     },
     "execution_count": 31,
     "metadata": {},
     "output_type": "execute_result"
    }
   ],
   "source": [
    "game_data[game_data['game_result']=='WIN'].groupby(['home_team']).count()"
   ]
  },
  {
   "cell_type": "code",
   "execution_count": 41,
   "metadata": {},
   "outputs": [
    {
     "name": "stdout",
     "output_type": "stream",
     "text": [
      "Principal Home Wins=  1620\n",
      "Opponent Home Wins=  1699\n"
     ]
    },
    {
     "data": {
      "text/plain": [
       "0.6445911827539328"
      ]
     },
     "execution_count": 41,
     "metadata": {},
     "output_type": "execute_result"
    }
   ],
   "source": [
    "principal_home_wins = game_data[(game_data['game_result']=='WIN') & (game_data['home_team']== True)].shape[0]\n",
    "print(\"Principal Home Wins= \",principal_home_wins)\n",
    "opponent_home_wins = game_data[(game_data['game_result']=='LOSS') & (game_data['home_team']== False)].shape[0]\n",
    "print(\"Opponent Home Wins= \",opponent_home_wins)\n",
    "percent_home_wins = (principal_home_wins + opponent_home_wins) / game_data.shape[0]\n",
    "percent_home_wins"
   ]
  },
  {
   "cell_type": "code",
   "execution_count": 36,
   "metadata": {},
   "outputs": [
    {
     "data": {
      "text/plain": [
       "(1699, 15)"
      ]
     },
     "execution_count": 36,
     "metadata": {},
     "output_type": "execute_result"
    }
   ],
   "source": [
    "game_data[(game_data['game_result']=='LOSS') & (game_data['home_team']== False)].shape[0]"
   ]
  },
  {
   "cell_type": "code",
   "execution_count": null,
   "metadata": {},
   "outputs": [],
   "source": []
  }
 ],
 "metadata": {
  "kernelspec": {
   "display_name": "Python 3",
   "language": "python",
   "name": "python3"
  },
  "language_info": {
   "codemirror_mode": {
    "name": "ipython",
    "version": 3
   },
   "file_extension": ".py",
   "mimetype": "text/x-python",
   "name": "python",
   "nbconvert_exporter": "python",
   "pygments_lexer": "ipython3",
   "version": "3.6.5"
  }
 },
 "nbformat": 4,
 "nbformat_minor": 2
}
