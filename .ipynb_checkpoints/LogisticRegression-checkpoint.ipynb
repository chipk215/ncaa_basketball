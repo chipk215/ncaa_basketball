{
 "cells": [
  {
   "cell_type": "code",
   "execution_count": 10,
   "metadata": {},
   "outputs": [
    {
     "name": "stdout",
     "output_type": "stream",
     "text": [
      "Seaborn version:  0.9.0\n"
     ]
    }
   ],
   "source": [
    "import pandas as pd\n",
    "import numpy as np\n",
    "import matplotlib.pyplot as plt\n",
    "import seaborn as sns\n",
    "from sklearn.linear_model import LogisticRegression\n",
    "from sklearn.model_selection import train_test_split\n",
    "from sklearn.preprocessing import StandardScaler\n",
    "from sklearn import metrics\n",
    "%matplotlib inline\n",
    "print(\"Seaborn version: \", sns.__version__)"
   ]
  },
  {
   "cell_type": "code",
   "execution_count": 274,
   "metadata": {},
   "outputs": [],
   "source": [
    "def sigmoid(x):\n",
    "    s = 1/(1+np.exp(-x))\n",
    "    return s"
   ]
  },
  {
   "cell_type": "code",
   "execution_count": 277,
   "metadata": {},
   "outputs": [],
   "source": [
    "def verify_win_probability(X_test, game_index, model):\n",
    "    game = X_test.loc[game_index,]\n",
    "    arg=(np.dot(game,model.coef_.T)) + model.intercept_\n",
    "    win_prob = sigmoid(arg)[0]\n",
    "    print(\"Win probability for game index\", game_index, \"= \",win_prob)"
   ]
  },
  {
   "cell_type": "code",
   "execution_count": 100,
   "metadata": {},
   "outputs": [
    {
     "name": "stdout",
     "output_type": "stream",
     "text": [
      "Number of records=  5149\n",
      "<class 'pandas.core.frame.DataFrame'>\n",
      "RangeIndex: 5149 entries, 0 to 5148\n",
      "Data columns (total 15 columns):\n",
      "game_id                      5149 non-null object\n",
      "game_date                    5149 non-null object\n",
      "principal_team               5149 non-null object\n",
      "opponent_team                5149 non-null object\n",
      "home_team                    5149 non-null bool\n",
      "principal_score              5149 non-null int64\n",
      "opponent_score               5149 non-null int64\n",
      "delta_avg_points_per_game    5149 non-null float64\n",
      "delta_field_goals_pct        5149 non-null float64\n",
      "delta_avg_off_rebounds       5149 non-null float64\n",
      "delta_avg_free_throws_att    5149 non-null float64\n",
      "delta_avg_free_throws_pct    5149 non-null float64\n",
      "delta_avg_turnovers          5149 non-null float64\n",
      "delta_win_pct                5149 non-null float64\n",
      "game_result                  5149 non-null object\n",
      "dtypes: bool(1), float64(7), int64(2), object(5)\n",
      "memory usage: 568.3+ KB\n"
     ]
    }
   ],
   "source": [
    "game_data = pd.read_csv('D1_2015_Processed_Stats.csv')\n",
    "print(\"Number of records= \", game_data.shape[0])\n",
    "game_data.info()"
   ]
  },
  {
   "cell_type": "code",
   "execution_count": 101,
   "metadata": {},
   "outputs": [
    {
     "data": {
      "text/html": [
       "<div>\n",
       "<style scoped>\n",
       "    .dataframe tbody tr th:only-of-type {\n",
       "        vertical-align: middle;\n",
       "    }\n",
       "\n",
       "    .dataframe tbody tr th {\n",
       "        vertical-align: top;\n",
       "    }\n",
       "\n",
       "    .dataframe thead th {\n",
       "        text-align: right;\n",
       "    }\n",
       "</style>\n",
       "<table border=\"1\" class=\"dataframe\">\n",
       "  <thead>\n",
       "    <tr style=\"text-align: right;\">\n",
       "      <th></th>\n",
       "      <th>game_id</th>\n",
       "      <th>game_date</th>\n",
       "      <th>principal_team</th>\n",
       "      <th>opponent_team</th>\n",
       "      <th>home_team</th>\n",
       "      <th>principal_score</th>\n",
       "      <th>opponent_score</th>\n",
       "      <th>delta_avg_points_per_game</th>\n",
       "      <th>delta_field_goals_pct</th>\n",
       "      <th>delta_avg_off_rebounds</th>\n",
       "      <th>delta_avg_free_throws_att</th>\n",
       "      <th>delta_avg_free_throws_pct</th>\n",
       "      <th>delta_avg_turnovers</th>\n",
       "      <th>delta_win_pct</th>\n",
       "      <th>game_result</th>\n",
       "    </tr>\n",
       "  </thead>\n",
       "  <tbody>\n",
       "    <tr>\n",
       "      <th>0</th>\n",
       "      <td>59217c6a-34da-48ef-8753-a7b1e5bb5998</td>\n",
       "      <td>2015-11-15</td>\n",
       "      <td>UNC Asheville</td>\n",
       "      <td>Western Carolina</td>\n",
       "      <td>False</td>\n",
       "      <td>81</td>\n",
       "      <td>90</td>\n",
       "      <td>6.0</td>\n",
       "      <td>0.075</td>\n",
       "      <td>-3.0</td>\n",
       "      <td>4.0</td>\n",
       "      <td>-0.008</td>\n",
       "      <td>2.0</td>\n",
       "      <td>0.0</td>\n",
       "      <td>LOSS</td>\n",
       "    </tr>\n",
       "    <tr>\n",
       "      <th>1</th>\n",
       "      <td>1bb9c45c-80e8-40e4-80f3-84a795135434</td>\n",
       "      <td>2015-11-15</td>\n",
       "      <td>South Dakota</td>\n",
       "      <td>Cal State Northridge</td>\n",
       "      <td>True</td>\n",
       "      <td>76</td>\n",
       "      <td>72</td>\n",
       "      <td>-4.0</td>\n",
       "      <td>-0.041</td>\n",
       "      <td>-5.0</td>\n",
       "      <td>-13.0</td>\n",
       "      <td>0.111</td>\n",
       "      <td>1.0</td>\n",
       "      <td>0.0</td>\n",
       "      <td>WIN</td>\n",
       "    </tr>\n",
       "    <tr>\n",
       "      <th>2</th>\n",
       "      <td>347c62d0-c3ca-4688-9fa0-aa21fa5746f9</td>\n",
       "      <td>2015-11-15</td>\n",
       "      <td>Wright State</td>\n",
       "      <td>Cal State Northridge</td>\n",
       "      <td>True</td>\n",
       "      <td>67</td>\n",
       "      <td>72</td>\n",
       "      <td>6.0</td>\n",
       "      <td>-0.052</td>\n",
       "      <td>-7.0</td>\n",
       "      <td>-6.0</td>\n",
       "      <td>0.276</td>\n",
       "      <td>-5.0</td>\n",
       "      <td>1.0</td>\n",
       "      <td>LOSS</td>\n",
       "    </tr>\n",
       "    <tr>\n",
       "      <th>3</th>\n",
       "      <td>2bb9a40e-50d9-4a5b-95a5-a49e609df45f</td>\n",
       "      <td>2015-11-15</td>\n",
       "      <td>Northern Illinois</td>\n",
       "      <td>Wright State</td>\n",
       "      <td>True</td>\n",
       "      <td>65</td>\n",
       "      <td>59</td>\n",
       "      <td>0.5</td>\n",
       "      <td>0.030</td>\n",
       "      <td>8.5</td>\n",
       "      <td>1.5</td>\n",
       "      <td>-0.144</td>\n",
       "      <td>4.0</td>\n",
       "      <td>0.0</td>\n",
       "      <td>WIN</td>\n",
       "    </tr>\n",
       "    <tr>\n",
       "      <th>4</th>\n",
       "      <td>07c058c3-ad3c-4af0-a78a-feeda651785e</td>\n",
       "      <td>2015-11-15</td>\n",
       "      <td>Clemson</td>\n",
       "      <td>UTSA</td>\n",
       "      <td>True</td>\n",
       "      <td>78</td>\n",
       "      <td>45</td>\n",
       "      <td>10.0</td>\n",
       "      <td>0.011</td>\n",
       "      <td>-1.0</td>\n",
       "      <td>7.0</td>\n",
       "      <td>-0.005</td>\n",
       "      <td>-17.0</td>\n",
       "      <td>1.0</td>\n",
       "      <td>WIN</td>\n",
       "    </tr>\n",
       "  </tbody>\n",
       "</table>\n",
       "</div>"
      ],
      "text/plain": [
       "                                game_id   game_date     principal_team  \\\n",
       "0  59217c6a-34da-48ef-8753-a7b1e5bb5998  2015-11-15      UNC Asheville   \n",
       "1  1bb9c45c-80e8-40e4-80f3-84a795135434  2015-11-15       South Dakota   \n",
       "2  347c62d0-c3ca-4688-9fa0-aa21fa5746f9  2015-11-15       Wright State   \n",
       "3  2bb9a40e-50d9-4a5b-95a5-a49e609df45f  2015-11-15  Northern Illinois   \n",
       "4  07c058c3-ad3c-4af0-a78a-feeda651785e  2015-11-15            Clemson   \n",
       "\n",
       "          opponent_team  home_team  principal_score  opponent_score  \\\n",
       "0      Western Carolina      False               81              90   \n",
       "1  Cal State Northridge       True               76              72   \n",
       "2  Cal State Northridge       True               67              72   \n",
       "3          Wright State       True               65              59   \n",
       "4                  UTSA       True               78              45   \n",
       "\n",
       "   delta_avg_points_per_game  delta_field_goals_pct  delta_avg_off_rebounds  \\\n",
       "0                        6.0                  0.075                    -3.0   \n",
       "1                       -4.0                 -0.041                    -5.0   \n",
       "2                        6.0                 -0.052                    -7.0   \n",
       "3                        0.5                  0.030                     8.5   \n",
       "4                       10.0                  0.011                    -1.0   \n",
       "\n",
       "   delta_avg_free_throws_att  delta_avg_free_throws_pct  delta_avg_turnovers  \\\n",
       "0                        4.0                     -0.008                  2.0   \n",
       "1                      -13.0                      0.111                  1.0   \n",
       "2                       -6.0                      0.276                 -5.0   \n",
       "3                        1.5                     -0.144                  4.0   \n",
       "4                        7.0                     -0.005                -17.0   \n",
       "\n",
       "   delta_win_pct game_result  \n",
       "0            0.0        LOSS  \n",
       "1            0.0         WIN  \n",
       "2            1.0        LOSS  \n",
       "3            0.0         WIN  \n",
       "4            1.0         WIN  "
      ]
     },
     "execution_count": 101,
     "metadata": {},
     "output_type": "execute_result"
    }
   ],
   "source": [
    "game_data.head()"
   ]
  },
  {
   "cell_type": "code",
   "execution_count": 252,
   "metadata": {},
   "outputs": [
    {
     "name": "stdout",
     "output_type": "stream",
     "text": [
      "<class 'pandas.core.frame.DataFrame'>\n",
      "Int64Index: 3927 entries, 1222 to 5148\n",
      "Data columns (total 15 columns):\n",
      "game_id                      3927 non-null object\n",
      "game_date                    3927 non-null object\n",
      "principal_team               3927 non-null object\n",
      "opponent_team                3927 non-null object\n",
      "home_team                    3927 non-null bool\n",
      "principal_score              3927 non-null int64\n",
      "opponent_score               3927 non-null int64\n",
      "delta_avg_points_per_game    3927 non-null float64\n",
      "delta_field_goals_pct        3927 non-null float64\n",
      "delta_avg_off_rebounds       3927 non-null float64\n",
      "delta_avg_free_throws_att    3927 non-null float64\n",
      "delta_avg_free_throws_pct    3927 non-null float64\n",
      "delta_avg_turnovers          3927 non-null float64\n",
      "delta_win_pct                3927 non-null float64\n",
      "game_result                  3927 non-null object\n",
      "dtypes: bool(1), float64(7), int64(2), object(5)\n",
      "memory usage: 464.0+ KB\n"
     ]
    }
   ],
   "source": [
    "game_data = game_data[game_data['game_date'] > '2015-12-15']\n",
    "game_data.info()"
   ]
  },
  {
   "cell_type": "code",
   "execution_count": 253,
   "metadata": {},
   "outputs": [
    {
     "data": {
      "text/html": [
       "<div>\n",
       "<style scoped>\n",
       "    .dataframe tbody tr th:only-of-type {\n",
       "        vertical-align: middle;\n",
       "    }\n",
       "\n",
       "    .dataframe tbody tr th {\n",
       "        vertical-align: top;\n",
       "    }\n",
       "\n",
       "    .dataframe thead th {\n",
       "        text-align: right;\n",
       "    }\n",
       "</style>\n",
       "<table border=\"1\" class=\"dataframe\">\n",
       "  <thead>\n",
       "    <tr style=\"text-align: right;\">\n",
       "      <th></th>\n",
       "      <th>delta_avg_off_rebounds</th>\n",
       "      <th>delta_avg_turnovers</th>\n",
       "      <th>home_team</th>\n",
       "      <th>delta_field_goals_pct</th>\n",
       "      <th>delta_avg_free_throws_pct</th>\n",
       "      <th>delta_win_pct</th>\n",
       "    </tr>\n",
       "  </thead>\n",
       "  <tbody>\n",
       "    <tr>\n",
       "      <th>1222</th>\n",
       "      <td>-0.197993</td>\n",
       "      <td>-1.413464</td>\n",
       "      <td>False</td>\n",
       "      <td>-0.051111</td>\n",
       "      <td>0.073222</td>\n",
       "      <td>0.000000</td>\n",
       "    </tr>\n",
       "    <tr>\n",
       "      <th>1223</th>\n",
       "      <td>-0.448820</td>\n",
       "      <td>0.698306</td>\n",
       "      <td>False</td>\n",
       "      <td>0.103625</td>\n",
       "      <td>0.017083</td>\n",
       "      <td>0.250000</td>\n",
       "    </tr>\n",
       "    <tr>\n",
       "      <th>1224</th>\n",
       "      <td>0.948647</td>\n",
       "      <td>0.796149</td>\n",
       "      <td>True</td>\n",
       "      <td>-0.006690</td>\n",
       "      <td>-0.113190</td>\n",
       "      <td>-0.190476</td>\n",
       "    </tr>\n",
       "    <tr>\n",
       "      <th>1225</th>\n",
       "      <td>0.955314</td>\n",
       "      <td>-3.174631</td>\n",
       "      <td>True</td>\n",
       "      <td>0.005857</td>\n",
       "      <td>-0.059603</td>\n",
       "      <td>0.380952</td>\n",
       "    </tr>\n",
       "    <tr>\n",
       "      <th>1226</th>\n",
       "      <td>1.196141</td>\n",
       "      <td>0.655500</td>\n",
       "      <td>False</td>\n",
       "      <td>-0.018750</td>\n",
       "      <td>-0.138000</td>\n",
       "      <td>-0.250000</td>\n",
       "    </tr>\n",
       "  </tbody>\n",
       "</table>\n",
       "</div>"
      ],
      "text/plain": [
       "      delta_avg_off_rebounds  delta_avg_turnovers  home_team  \\\n",
       "1222               -0.197993            -1.413464      False   \n",
       "1223               -0.448820             0.698306      False   \n",
       "1224                0.948647             0.796149       True   \n",
       "1225                0.955314            -3.174631       True   \n",
       "1226                1.196141             0.655500      False   \n",
       "\n",
       "      delta_field_goals_pct  delta_avg_free_throws_pct  delta_win_pct  \n",
       "1222              -0.051111                   0.073222       0.000000  \n",
       "1223               0.103625                   0.017083       0.250000  \n",
       "1224              -0.006690                  -0.113190      -0.190476  \n",
       "1225               0.005857                  -0.059603       0.380952  \n",
       "1226              -0.018750                  -0.138000      -0.250000  "
      ]
     },
     "execution_count": 253,
     "metadata": {},
     "output_type": "execute_result"
    }
   ],
   "source": [
    "numeric_feature_to_scale = ['delta_avg_points_per_game','delta_avg_off_rebounds','delta_avg_free_throws_att','delta_avg_turnovers']\n",
    "\n",
    "game_data_scale = game_data[numeric_feature_to_scale].copy()\n",
    "scaler =StandardScaler()\n",
    "scaled_features = scaler.fit_transform(game_data_scale.values)\n",
    "scaled_df = pd.DataFrame(scaled_features, index=game_data_scale.index, columns=game_data_scale.columns)\n",
    "\n",
    "# Add the categorical columns and previously scaled numerics \n",
    "scaled_df['home_team'] = game_data['home_team']\n",
    "scaled_df['delta_field_goals_pct'] = game_data['delta_field_goals_pct']\n",
    "scaled_df['delta_avg_free_throws_pct'] = game_data['delta_avg_free_throws_pct']\n",
    "\n",
    "scaled_df['delta_win_pct'] = game_data['delta_win_pct']\n",
    "\n",
    "scaled_df.drop(columns=['delta_avg_points_per_game', 'delta_avg_free_throws_att'],inplace=True)\n",
    "scaled_df.head()\n"
   ]
  },
  {
   "cell_type": "code",
   "execution_count": 254,
   "metadata": {},
   "outputs": [
    {
     "name": "stdout",
     "output_type": "stream",
     "text": [
      "(3927, 6)\n"
     ]
    },
    {
     "data": {
      "text/html": [
       "<div>\n",
       "<style scoped>\n",
       "    .dataframe tbody tr th:only-of-type {\n",
       "        vertical-align: middle;\n",
       "    }\n",
       "\n",
       "    .dataframe tbody tr th {\n",
       "        vertical-align: top;\n",
       "    }\n",
       "\n",
       "    .dataframe thead th {\n",
       "        text-align: right;\n",
       "    }\n",
       "</style>\n",
       "<table border=\"1\" class=\"dataframe\">\n",
       "  <thead>\n",
       "    <tr style=\"text-align: right;\">\n",
       "      <th></th>\n",
       "      <th>delta_avg_off_rebounds</th>\n",
       "      <th>delta_avg_turnovers</th>\n",
       "      <th>delta_field_goals_pct</th>\n",
       "      <th>delta_avg_free_throws_pct</th>\n",
       "      <th>delta_win_pct</th>\n",
       "      <th>home_team_True</th>\n",
       "    </tr>\n",
       "  </thead>\n",
       "  <tbody>\n",
       "    <tr>\n",
       "      <th>1222</th>\n",
       "      <td>-0.197993</td>\n",
       "      <td>-1.413464</td>\n",
       "      <td>-0.051111</td>\n",
       "      <td>0.073222</td>\n",
       "      <td>0.000000</td>\n",
       "      <td>0</td>\n",
       "    </tr>\n",
       "    <tr>\n",
       "      <th>1223</th>\n",
       "      <td>-0.448820</td>\n",
       "      <td>0.698306</td>\n",
       "      <td>0.103625</td>\n",
       "      <td>0.017083</td>\n",
       "      <td>0.250000</td>\n",
       "      <td>0</td>\n",
       "    </tr>\n",
       "    <tr>\n",
       "      <th>1224</th>\n",
       "      <td>0.948647</td>\n",
       "      <td>0.796149</td>\n",
       "      <td>-0.006690</td>\n",
       "      <td>-0.113190</td>\n",
       "      <td>-0.190476</td>\n",
       "      <td>1</td>\n",
       "    </tr>\n",
       "    <tr>\n",
       "      <th>1225</th>\n",
       "      <td>0.955314</td>\n",
       "      <td>-3.174631</td>\n",
       "      <td>0.005857</td>\n",
       "      <td>-0.059603</td>\n",
       "      <td>0.380952</td>\n",
       "      <td>1</td>\n",
       "    </tr>\n",
       "    <tr>\n",
       "      <th>1226</th>\n",
       "      <td>1.196141</td>\n",
       "      <td>0.655500</td>\n",
       "      <td>-0.018750</td>\n",
       "      <td>-0.138000</td>\n",
       "      <td>-0.250000</td>\n",
       "      <td>0</td>\n",
       "    </tr>\n",
       "  </tbody>\n",
       "</table>\n",
       "</div>"
      ],
      "text/plain": [
       "      delta_avg_off_rebounds  delta_avg_turnovers  delta_field_goals_pct  \\\n",
       "1222               -0.197993            -1.413464              -0.051111   \n",
       "1223               -0.448820             0.698306               0.103625   \n",
       "1224                0.948647             0.796149              -0.006690   \n",
       "1225                0.955314            -3.174631               0.005857   \n",
       "1226                1.196141             0.655500              -0.018750   \n",
       "\n",
       "      delta_avg_free_throws_pct  delta_win_pct  home_team_True  \n",
       "1222                   0.073222       0.000000               0  \n",
       "1223                   0.017083       0.250000               0  \n",
       "1224                  -0.113190      -0.190476               1  \n",
       "1225                  -0.059603       0.380952               1  \n",
       "1226                  -0.138000      -0.250000               0  "
      ]
     },
     "execution_count": 254,
     "metadata": {},
     "output_type": "execute_result"
    }
   ],
   "source": [
    "X = scaled_df\n",
    "y= game_data['game_result'].copy()\n",
    "y = pd.get_dummies(y, columns=['game_result'], drop_first=True)\n",
    "y=y.WIN\n",
    "X = pd.get_dummies(X, columns=['home_team'], drop_first=True)\n",
    "print(X.shape)\n",
    "X.head()"
   ]
  },
  {
   "cell_type": "code",
   "execution_count": 279,
   "metadata": {},
   "outputs": [
    {
     "name": "stdout",
     "output_type": "stream",
     "text": [
      "(3927,)\n"
     ]
    }
   ],
   "source": [
    "print(y.shape)\n",
    "#y.head()"
   ]
  },
  {
   "cell_type": "code",
   "execution_count": 256,
   "metadata": {},
   "outputs": [],
   "source": [
    "X_train, X_test, y_train, y_test = train_test_split(X, y, test_size=0.2, random_state= 10)\n"
   ]
  },
  {
   "cell_type": "code",
   "execution_count": 257,
   "metadata": {},
   "outputs": [
    {
     "name": "stdout",
     "output_type": "stream",
     "text": [
      "(3141, 6)\n"
     ]
    },
    {
     "data": {
      "text/html": [
       "<div>\n",
       "<style scoped>\n",
       "    .dataframe tbody tr th:only-of-type {\n",
       "        vertical-align: middle;\n",
       "    }\n",
       "\n",
       "    .dataframe tbody tr th {\n",
       "        vertical-align: top;\n",
       "    }\n",
       "\n",
       "    .dataframe thead th {\n",
       "        text-align: right;\n",
       "    }\n",
       "</style>\n",
       "<table border=\"1\" class=\"dataframe\">\n",
       "  <thead>\n",
       "    <tr style=\"text-align: right;\">\n",
       "      <th></th>\n",
       "      <th>delta_avg_off_rebounds</th>\n",
       "      <th>delta_avg_turnovers</th>\n",
       "      <th>delta_field_goals_pct</th>\n",
       "      <th>delta_avg_free_throws_pct</th>\n",
       "      <th>delta_win_pct</th>\n",
       "      <th>home_team_True</th>\n",
       "    </tr>\n",
       "  </thead>\n",
       "  <tbody>\n",
       "    <tr>\n",
       "      <th>1686</th>\n",
       "      <td>-0.097238</td>\n",
       "      <td>0.523190</td>\n",
       "      <td>-0.074144</td>\n",
       "      <td>-0.122121</td>\n",
       "      <td>-0.393939</td>\n",
       "      <td>1</td>\n",
       "    </tr>\n",
       "    <tr>\n",
       "      <th>4480</th>\n",
       "      <td>-0.134789</td>\n",
       "      <td>0.160172</td>\n",
       "      <td>0.057728</td>\n",
       "      <td>0.014168</td>\n",
       "      <td>0.277473</td>\n",
       "      <td>1</td>\n",
       "    </tr>\n",
       "    <tr>\n",
       "      <th>4091</th>\n",
       "      <td>1.543739</td>\n",
       "      <td>0.139123</td>\n",
       "      <td>-0.045797</td>\n",
       "      <td>-0.109147</td>\n",
       "      <td>0.039474</td>\n",
       "      <td>0</td>\n",
       "    </tr>\n",
       "    <tr>\n",
       "      <th>2709</th>\n",
       "      <td>-0.948760</td>\n",
       "      <td>1.121332</td>\n",
       "      <td>0.071029</td>\n",
       "      <td>0.033127</td>\n",
       "      <td>0.196078</td>\n",
       "      <td>0</td>\n",
       "    </tr>\n",
       "    <tr>\n",
       "      <th>2191</th>\n",
       "      <td>-0.883618</td>\n",
       "      <td>-1.369560</td>\n",
       "      <td>-0.011154</td>\n",
       "      <td>0.013231</td>\n",
       "      <td>-0.307692</td>\n",
       "      <td>1</td>\n",
       "    </tr>\n",
       "  </tbody>\n",
       "</table>\n",
       "</div>"
      ],
      "text/plain": [
       "      delta_avg_off_rebounds  delta_avg_turnovers  delta_field_goals_pct  \\\n",
       "1686               -0.097238             0.523190              -0.074144   \n",
       "4480               -0.134789             0.160172               0.057728   \n",
       "4091                1.543739             0.139123              -0.045797   \n",
       "2709               -0.948760             1.121332               0.071029   \n",
       "2191               -0.883618            -1.369560              -0.011154   \n",
       "\n",
       "      delta_avg_free_throws_pct  delta_win_pct  home_team_True  \n",
       "1686                  -0.122121      -0.393939               1  \n",
       "4480                   0.014168       0.277473               1  \n",
       "4091                  -0.109147       0.039474               0  \n",
       "2709                   0.033127       0.196078               0  \n",
       "2191                   0.013231      -0.307692               1  "
      ]
     },
     "execution_count": 257,
     "metadata": {},
     "output_type": "execute_result"
    }
   ],
   "source": [
    "print(X_train.shape)\n",
    "print(y_train.shape)\n",
    "print(X_test.shape)\n",
    "print(y_test.shape)\n",
    "X_train.head()"
   ]
  },
  {
   "cell_type": "markdown",
   "metadata": {},
   "source": [
    "Create LR Model"
   ]
  },
  {
   "cell_type": "code",
   "execution_count": 261,
   "metadata": {},
   "outputs": [
    {
     "name": "stdout",
     "output_type": "stream",
     "text": [
      "Coeffs  [[ 0.2176928  -0.25695821  2.30319854  0.32985503  3.10119089  1.16963584]]\n",
      "Intercept  [-0.54549372]\n"
     ]
    }
   ],
   "source": [
    "logreg = LogisticRegression()\n",
    "\n",
    "result = logreg.fit(X_train,y_train)\n",
    "\n",
    "print(\"Coeffs \",logreg.coef_)\n",
    "print(\"Intercept \", logreg.intercept_)"
   ]
  },
  {
   "cell_type": "markdown",
   "metadata": {},
   "source": [
    "Generate Baseline Predictions (Revisit)\n",
    "Baseline by randomly choosing a team\n",
    "Baseline by choosing home tema wins"
   ]
  },
  {
   "cell_type": "code",
   "execution_count": 262,
   "metadata": {},
   "outputs": [
    {
     "name": "stdout",
     "output_type": "stream",
     "text": [
      "LR model accuracy is 0.68\n"
     ]
    }
   ],
   "source": [
    "y_pred = logreg.predict(X_test)\n",
    "print(\"LR model accuracy is %2.2f\" % metrics.accuracy_score(y_test, y_pred))"
   ]
  },
  {
   "cell_type": "code",
   "execution_count": 264,
   "metadata": {},
   "outputs": [],
   "source": [
    "prediction_probabilities = logreg.predict_proba(X_test)\n",
    "prediction_probabilities[:,1]\n",
    "pred_probs = pd.Series(prediction_probabilities[:,1], index=X_test.index)"
   ]
  },
  {
   "cell_type": "markdown",
   "metadata": {},
   "source": [
    "Result Report"
   ]
  },
  {
   "cell_type": "code",
   "execution_count": 280,
   "metadata": {},
   "outputs": [
    {
     "name": "stdout",
     "output_type": "stream",
     "text": [
      "(786,)\n"
     ]
    }
   ],
   "source": [
    "print(y_pred.shape)\n",
    "predictions = pd.Series(y_pred, index=y_test.index)"
   ]
  },
  {
   "cell_type": "code",
   "execution_count": 292,
   "metadata": {},
   "outputs": [
    {
     "data": {
      "text/html": [
       "<div>\n",
       "<style scoped>\n",
       "    .dataframe tbody tr th:only-of-type {\n",
       "        vertical-align: middle;\n",
       "    }\n",
       "\n",
       "    .dataframe tbody tr th {\n",
       "        vertical-align: top;\n",
       "    }\n",
       "\n",
       "    .dataframe thead th {\n",
       "        text-align: right;\n",
       "    }\n",
       "</style>\n",
       "<table border=\"1\" class=\"dataframe\">\n",
       "  <thead>\n",
       "    <tr style=\"text-align: right;\">\n",
       "      <th></th>\n",
       "      <th>game_id</th>\n",
       "      <th>game_date</th>\n",
       "      <th>principal_team</th>\n",
       "      <th>opponent_team</th>\n",
       "      <th>home_team</th>\n",
       "      <th>principal_score</th>\n",
       "      <th>opponent_score</th>\n",
       "      <th>delta_avg_points_per_game</th>\n",
       "      <th>delta_field_goals_pct</th>\n",
       "      <th>delta_avg_off_rebounds</th>\n",
       "      <th>delta_avg_free_throws_att</th>\n",
       "      <th>delta_avg_free_throws_pct</th>\n",
       "      <th>delta_avg_turnovers</th>\n",
       "      <th>delta_win_pct</th>\n",
       "      <th>game_result</th>\n",
       "      <th>predicted_result</th>\n",
       "      <th>pred_win_prob</th>\n",
       "    </tr>\n",
       "  </thead>\n",
       "  <tbody>\n",
       "    <tr>\n",
       "      <th>1223</th>\n",
       "      <td>44baa74b-74e6-42a6-8dc2-f581d3c32e9b</td>\n",
       "      <td>2015-12-16</td>\n",
       "      <td>UC Davis</td>\n",
       "      <td>San Diego</td>\n",
       "      <td>False</td>\n",
       "      <td>55</td>\n",
       "      <td>61</td>\n",
       "      <td>18.000000</td>\n",
       "      <td>0.103625</td>\n",
       "      <td>-1.041667</td>\n",
       "      <td>4.500000</td>\n",
       "      <td>0.017083</td>\n",
       "      <td>1.333333</td>\n",
       "      <td>0.250000</td>\n",
       "      <td>LOSS</td>\n",
       "      <td>WIN</td>\n",
       "      <td>0.549083</td>\n",
       "    </tr>\n",
       "    <tr>\n",
       "      <th>1231</th>\n",
       "      <td>4b551d48-7774-4365-a95c-3fb12d339da7</td>\n",
       "      <td>2015-12-16</td>\n",
       "      <td>UC Riverside</td>\n",
       "      <td>Houston Baptist</td>\n",
       "      <td>False</td>\n",
       "      <td>59</td>\n",
       "      <td>72</td>\n",
       "      <td>9.410714</td>\n",
       "      <td>0.016714</td>\n",
       "      <td>2.125000</td>\n",
       "      <td>-1.964286</td>\n",
       "      <td>-0.041429</td>\n",
       "      <td>-0.964286</td>\n",
       "      <td>0.357143</td>\n",
       "      <td>LOSS</td>\n",
       "      <td>WIN</td>\n",
       "      <td>0.711475</td>\n",
       "    </tr>\n",
       "    <tr>\n",
       "      <th>1238</th>\n",
       "      <td>23ac6027-7c73-4acf-820c-b0d170ccf342</td>\n",
       "      <td>2015-12-16</td>\n",
       "      <td>Stanford</td>\n",
       "      <td>DePaul</td>\n",
       "      <td>True</td>\n",
       "      <td>79</td>\n",
       "      <td>60</td>\n",
       "      <td>-0.063492</td>\n",
       "      <td>-0.020349</td>\n",
       "      <td>4.634921</td>\n",
       "      <td>4.349206</td>\n",
       "      <td>-0.042571</td>\n",
       "      <td>0.079365</td>\n",
       "      <td>0.015873</td>\n",
       "      <td>WIN</td>\n",
       "      <td>WIN</td>\n",
       "      <td>0.734940</td>\n",
       "    </tr>\n",
       "    <tr>\n",
       "      <th>1239</th>\n",
       "      <td>94ef20cb-0fd5-4b8c-87cc-84db0a5fb902</td>\n",
       "      <td>2015-12-16</td>\n",
       "      <td>Northern Kentucky</td>\n",
       "      <td>Michigan</td>\n",
       "      <td>False</td>\n",
       "      <td>62</td>\n",
       "      <td>77</td>\n",
       "      <td>-9.333333</td>\n",
       "      <td>-0.037167</td>\n",
       "      <td>2.388889</td>\n",
       "      <td>1.222222</td>\n",
       "      <td>-0.091000</td>\n",
       "      <td>7.000000</td>\n",
       "      <td>-0.500000</td>\n",
       "      <td>LOSS</td>\n",
       "      <td>LOSS</td>\n",
       "      <td>0.051021</td>\n",
       "    </tr>\n",
       "    <tr>\n",
       "      <th>1246</th>\n",
       "      <td>d3a3dccd-b480-4330-a592-d0a795b49ab2</td>\n",
       "      <td>2015-12-16</td>\n",
       "      <td>Memphis</td>\n",
       "      <td>Southern University</td>\n",
       "      <td>True</td>\n",
       "      <td>72</td>\n",
       "      <td>67</td>\n",
       "      <td>7.666667</td>\n",
       "      <td>-0.010042</td>\n",
       "      <td>2.000000</td>\n",
       "      <td>11.250000</td>\n",
       "      <td>0.050917</td>\n",
       "      <td>0.791667</td>\n",
       "      <td>0.083333</td>\n",
       "      <td>WIN</td>\n",
       "      <td>WIN</td>\n",
       "      <td>0.720852</td>\n",
       "    </tr>\n",
       "  </tbody>\n",
       "</table>\n",
       "</div>"
      ],
      "text/plain": [
       "                                   game_id   game_date     principal_team  \\\n",
       "1223  44baa74b-74e6-42a6-8dc2-f581d3c32e9b  2015-12-16           UC Davis   \n",
       "1231  4b551d48-7774-4365-a95c-3fb12d339da7  2015-12-16       UC Riverside   \n",
       "1238  23ac6027-7c73-4acf-820c-b0d170ccf342  2015-12-16           Stanford   \n",
       "1239  94ef20cb-0fd5-4b8c-87cc-84db0a5fb902  2015-12-16  Northern Kentucky   \n",
       "1246  d3a3dccd-b480-4330-a592-d0a795b49ab2  2015-12-16            Memphis   \n",
       "\n",
       "            opponent_team  home_team  principal_score  opponent_score  \\\n",
       "1223            San Diego      False               55              61   \n",
       "1231      Houston Baptist      False               59              72   \n",
       "1238               DePaul       True               79              60   \n",
       "1239             Michigan      False               62              77   \n",
       "1246  Southern University       True               72              67   \n",
       "\n",
       "      delta_avg_points_per_game  delta_field_goals_pct  \\\n",
       "1223                  18.000000               0.103625   \n",
       "1231                   9.410714               0.016714   \n",
       "1238                  -0.063492              -0.020349   \n",
       "1239                  -9.333333              -0.037167   \n",
       "1246                   7.666667              -0.010042   \n",
       "\n",
       "      delta_avg_off_rebounds  delta_avg_free_throws_att  \\\n",
       "1223               -1.041667                   4.500000   \n",
       "1231                2.125000                  -1.964286   \n",
       "1238                4.634921                   4.349206   \n",
       "1239                2.388889                   1.222222   \n",
       "1246                2.000000                  11.250000   \n",
       "\n",
       "      delta_avg_free_throws_pct  delta_avg_turnovers  delta_win_pct  \\\n",
       "1223                   0.017083             1.333333       0.250000   \n",
       "1231                  -0.041429            -0.964286       0.357143   \n",
       "1238                  -0.042571             0.079365       0.015873   \n",
       "1239                  -0.091000             7.000000      -0.500000   \n",
       "1246                   0.050917             0.791667       0.083333   \n",
       "\n",
       "     game_result predicted_result  pred_win_prob  \n",
       "1223        LOSS              WIN       0.549083  \n",
       "1231        LOSS              WIN       0.711475  \n",
       "1238         WIN              WIN       0.734940  \n",
       "1239        LOSS             LOSS       0.051021  \n",
       "1246         WIN              WIN       0.720852  "
      ]
     },
     "execution_count": 292,
     "metadata": {},
     "output_type": "execute_result"
    }
   ],
   "source": [
    "# Retrieve the non-normalized game stats\n",
    "test_games = game_data[game_data.index.isin(X_test.index)].copy()\n",
    "test_games.shape\n",
    "\n",
    "test_games['predicted_result'] = predictions\n",
    "test_games['pred_win_prob'] = pred_probs\n",
    "\n",
    "encode_pred_result = {\"predicted_result\": {0: \"LOSS\", 1: \"WIN\"}}\n",
    "test_games.replace(encode_pred_result, inplace=True)\n",
    "\n",
    "test_games.head()\n"
   ]
  },
  {
   "cell_type": "code",
   "execution_count": 293,
   "metadata": {},
   "outputs": [
    {
     "data": {
      "text/plain": [
       "Text(0.5,1,'Probabilities For Missed Predictions')"
      ]
     },
     "execution_count": 293,
     "metadata": {},
     "output_type": "execute_result"
    },
    {
     "data": {
      "image/png": "[encoded data removed]",
      "text/plain": [
       "<Figure size 432x288 with 1 Axes>"
      ]
     },
     "metadata": {},
     "output_type": "display_data"
    }
   ],
   "source": [
    "\n",
    "missed_predictions = test_games[test_games['game_result'] != \n",
    "                                test_games['predicted_result']].sort_values(by='pred_win_prob', ascending=False)\n",
    "\n",
    "missed_predictions.pred_win_prob\n",
    "\n",
    "sns.distplot(missed_predictions.pred_win_prob, kde=False, rug=True).set_title(\"Probabilities For Missed Predictions\")"
   ]
  },
  {
   "cell_type": "code",
   "execution_count": 294,
   "metadata": {},
   "outputs": [
    {
     "data": {
      "text/plain": [
       "Text(0.5,1,'Probabilities For Correct Predictions')"
      ]
     },
     "execution_count": 294,
     "metadata": {},
     "output_type": "execute_result"
    },
    {
     "data": {
      "image/png": "[encoded data removed]",
      "text/plain": [
       "<Figure size 432x288 with 1 Axes>"
      ]
     },
     "metadata": {},
     "output_type": "display_data"
    }
   ],
   "source": [
    "correct_predictions = test_games[test_games['game_result'] == \n",
    "                                test_games['predicted_result']].sort_values(by='pred_win_prob', ascending=False)\n",
    "\n",
    "sns.distplot(correct_predictions.pred_win_prob, kde=False, rug=True).set_title(\"Probabilities For Correct Predictions\")"
   ]
  },
  {
   "cell_type": "code",
   "execution_count": 296,
   "metadata": {},
   "outputs": [
    {
     "data": {
      "text/plain": [
       "game_result  predicted_result\n",
       "LOSS         LOSS                 83\n",
       "             WIN                  76\n",
       "WIN          LOSS                 39\n",
       "             WIN                 182\n",
       "Name: delta_avg_points_per_game, dtype: int64"
      ]
     },
     "execution_count": 296,
     "metadata": {},
     "output_type": "execute_result"
    }
   ],
   "source": [
    "test_games[test_games['delta_avg_points_per_game']> 0].groupby(['game_result','predicted_result'])['delta_avg_points_per_game'].count()"
   ]
  },
  {
   "cell_type": "code",
   "execution_count": 297,
   "metadata": {},
   "outputs": [
    {
     "data": {
      "text/plain": [
       "game_result  predicted_result\n",
       "LOSS         LOSS                 72\n",
       "             WIN                  75\n",
       "WIN          LOSS                 52\n",
       "             WIN                 188\n",
       "Name: delta_field_goals_pct, dtype: int64"
      ]
     },
     "execution_count": 297,
     "metadata": {},
     "output_type": "execute_result"
    }
   ],
   "source": [
    "test_games[test_games['delta_field_goals_pct']> 0].groupby(['game_result','predicted_result'])['delta_field_goals_pct'].count()"
   ]
  },
  {
   "cell_type": "code",
   "execution_count": 270,
   "metadata": {},
   "outputs": [
    {
     "data": {
      "text/plain": [
       "array([[267, 142],\n",
       "       [112, 265]], dtype=int64)"
      ]
     },
     "execution_count": 270,
     "metadata": {},
     "output_type": "execute_result"
    }
   ],
   "source": [
    "cnf_matrix = metrics.confusion_matrix(y_test, y_pred)\n",
    "cnf_matrix"
   ]
  },
  {
   "cell_type": "code",
   "execution_count": null,
   "metadata": {},
   "outputs": [],
   "source": []
  },
  {
   "cell_type": "code",
   "execution_count": null,
   "metadata": {},
   "outputs": [],
   "source": []
  },
  {
   "cell_type": "code",
   "execution_count": 244,
   "metadata": {},
   "outputs": [
    {
     "data": {
      "text/plain": [
       "Text(0.5,257.44,'Predicted label')"
      ]
     },
     "execution_count": 244,
     "metadata": {},
     "output_type": "execute_result"
    },
    {
     "data": {
      "image/png": "[encoded data removed]",
      "text/plain": [
       "<Figure size 432x288 with 2 Axes>"
      ]
     },
     "metadata": {},
     "output_type": "display_data"
    }
   ],
   "source": [
    "class_names=[0,1] # name  of classes\n",
    "fig, ax = plt.subplots()\n",
    "tick_marks = np.arange(len(class_names))\n",
    "plt.xticks(tick_marks, class_names)\n",
    "plt.yticks(tick_marks, class_names)\n",
    "# create heatmap\n",
    "sns.heatmap(pd.DataFrame(cnf_matrix), annot=True, cmap=\"YlGnBu\" ,fmt='g')\n",
    "ax.xaxis.set_label_position(\"top\")\n",
    "plt.tight_layout()\n",
    "plt.title('Confusion matrix', y=1.1)\n",
    "plt.ylabel('Actual label')\n",
    "plt.xlabel('Predicted label')"
   ]
  },
  {
   "cell_type": "code",
   "execution_count": 282,
   "metadata": {},
   "outputs": [
    {
     "name": "stdout",
     "output_type": "stream",
     "text": [
      "Accuracy: 0.6768447837150128\n",
      "Precision: 0.6511056511056511\n",
      "Recall: 0.7029177718832891\n"
     ]
    }
   ],
   "source": [
    "print(\"Accuracy:\",metrics.accuracy_score(y_test, y_pred))\n",
    "print(\"Precision:\",metrics.precision_score(y_test, y_pred))\n",
    "print(\"Recall:\",metrics.recall_score(y_test, y_pred))"
   ]
  },
  {
   "cell_type": "code",
   "execution_count": 283,
   "metadata": {},
   "outputs": [
    {
     "name": "stdout",
     "output_type": "stream",
     "text": [
      "\n",
      "\n",
      "---Logistic Model---\n",
      "Base Rate AUC= 0.68\n",
      "             precision    recall  f1-score   support\n",
      "\n",
      "          0       0.70      0.65      0.68       409\n",
      "          1       0.65      0.70      0.68       377\n",
      "\n",
      "avg / total       0.68      0.68      0.68       786\n",
      "\n"
     ]
    }
   ],
   "source": [
    "print(\"\\n\\n---Logistic Model---\")\n",
    "logit_roc_auc = metrics.roc_auc_score(y_test, y_pred)\n",
    "print(\"Base Rate AUC= %2.2f\" % logit_roc_auc)\n",
    "print(metrics.classification_report(y_test, y_pred))"
   ]
  },
  {
   "cell_type": "code",
   "execution_count": 278,
   "metadata": {},
   "outputs": [
    {
     "name": "stdout",
     "output_type": "stream",
     "text": [
      "Win probability for game index 4965 =  0.9205796149143125\n"
     ]
    }
   ],
   "source": [
    "verify_win_probability(X_test, 4965, logreg)"
   ]
  },
  {
   "cell_type": "code",
   "execution_count": null,
   "metadata": {},
   "outputs": [],
   "source": []
  }
 ],
 "metadata": {
  "kernelspec": {
   "display_name": "Python 3",
   "language": "python",
   "name": "python3"
  },
  "language_info": {
   "codemirror_mode": {
    "name": "ipython",
    "version": 3
   },
   "file_extension": ".py",
   "mimetype": "text/x-python",
   "name": "python",
   "nbconvert_exporter": "python",
   "pygments_lexer": "ipython3",
   "version": "3.6.5"
  }
 },
 "nbformat": 4,
 "nbformat_minor": 2
}
