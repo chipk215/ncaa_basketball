{
 "cells": [
  {
   "cell_type": "code",
   "execution_count": 21,
   "metadata": {},
   "outputs": [],
   "source": [
    "import pandas as pd\n",
    "import numpy as np\n",
    "import matplotlib.pyplot as plt\n",
    "import seaborn as sns\n",
    "from sklearn import metrics\n",
    "from sklearn.model_selection import train_test_split\n",
    "from sklearn.preprocessing import StandardScaler\n",
    "from sklearn.neural_network import MLPClassifier\n",
    "from sklearn.metrics import classification_report,confusion_matrix\n"
   ]
  },
  {
   "cell_type": "code",
   "execution_count": 11,
   "metadata": {},
   "outputs": [
    {
     "name": "stdout",
     "output_type": "stream",
     "text": [
      "Number of records=  5149\n",
      "<class 'pandas.core.frame.DataFrame'>\n",
      "RangeIndex: 5149 entries, 0 to 5148\n",
      "Data columns (total 13 columns):\n",
      "points_game           5149 non-null float64\n",
      "field_goals_pct       5149 non-null float64\n",
      "offensive_rebounds    5149 non-null float64\n",
      "free_throws_att       5149 non-null float64\n",
      "free_throws_pct       5149 non-null float64\n",
      "turnovers             5149 non-null float64\n",
      "win_pct               5149 non-null float64\n",
      "game_id               5149 non-null object\n",
      "home_team             5149 non-null bool\n",
      "market                5149 non-null object\n",
      "opp_market            5149 non-null object\n",
      "game_result           5149 non-null object\n",
      "game_date             5149 non-null object\n",
      "dtypes: bool(1), float64(7), object(5)\n",
      "memory usage: 487.8+ KB\n"
     ]
    }
   ],
   "source": [
    "game_data = pd.read_csv('D1_2015_Processed_Stats.csv')\n",
    "print(\"Number of records= \", game_data.shape[0])\n",
    "game_data.info()"
   ]
  },
  {
   "cell_type": "code",
   "execution_count": 12,
   "metadata": {},
   "outputs": [
    {
     "data": {
      "text/html": [
       "<div>\n",
       "<style scoped>\n",
       "    .dataframe tbody tr th:only-of-type {\n",
       "        vertical-align: middle;\n",
       "    }\n",
       "\n",
       "    .dataframe tbody tr th {\n",
       "        vertical-align: top;\n",
       "    }\n",
       "\n",
       "    .dataframe thead th {\n",
       "        text-align: right;\n",
       "    }\n",
       "</style>\n",
       "<table border=\"1\" class=\"dataframe\">\n",
       "  <thead>\n",
       "    <tr style=\"text-align: right;\">\n",
       "      <th></th>\n",
       "      <th>points_game</th>\n",
       "      <th>field_goals_pct</th>\n",
       "      <th>offensive_rebounds</th>\n",
       "      <th>free_throws_att</th>\n",
       "      <th>free_throws_pct</th>\n",
       "      <th>turnovers</th>\n",
       "      <th>win_pct</th>\n",
       "      <th>home_team</th>\n",
       "    </tr>\n",
       "  </thead>\n",
       "  <tbody>\n",
       "    <tr>\n",
       "      <th>0</th>\n",
       "      <td>0.635309</td>\n",
       "      <td>1.534024</td>\n",
       "      <td>-1.091424</td>\n",
       "      <td>0.756443</td>\n",
       "      <td>-0.102739</td>\n",
       "      <td>0.812673</td>\n",
       "      <td>-0.000316</td>\n",
       "      <td>False</td>\n",
       "    </tr>\n",
       "    <tr>\n",
       "      <th>1</th>\n",
       "      <td>-0.400047</td>\n",
       "      <td>-0.814191</td>\n",
       "      <td>-1.814260</td>\n",
       "      <td>-2.478703</td>\n",
       "      <td>1.552383</td>\n",
       "      <td>0.405574</td>\n",
       "      <td>-0.000316</td>\n",
       "      <td>True</td>\n",
       "    </tr>\n",
       "    <tr>\n",
       "      <th>2</th>\n",
       "      <td>0.635309</td>\n",
       "      <td>-1.036867</td>\n",
       "      <td>-2.537095</td>\n",
       "      <td>-1.146584</td>\n",
       "      <td>3.847301</td>\n",
       "      <td>-2.037022</td>\n",
       "      <td>3.100964</td>\n",
       "      <td>True</td>\n",
       "    </tr>\n",
       "    <tr>\n",
       "      <th>3</th>\n",
       "      <td>0.065863</td>\n",
       "      <td>0.623079</td>\n",
       "      <td>3.064879</td>\n",
       "      <td>0.280686</td>\n",
       "      <td>-1.994307</td>\n",
       "      <td>1.626872</td>\n",
       "      <td>-0.000316</td>\n",
       "      <td>True</td>\n",
       "    </tr>\n",
       "    <tr>\n",
       "      <th>4</th>\n",
       "      <td>1.049451</td>\n",
       "      <td>0.238457</td>\n",
       "      <td>-0.368589</td>\n",
       "      <td>1.327351</td>\n",
       "      <td>-0.061013</td>\n",
       "      <td>-6.922215</td>\n",
       "      <td>3.100964</td>\n",
       "      <td>True</td>\n",
       "    </tr>\n",
       "  </tbody>\n",
       "</table>\n",
       "</div>"
      ],
      "text/plain": [
       "   points_game  field_goals_pct  offensive_rebounds  free_throws_att  \\\n",
       "0     0.635309         1.534024           -1.091424         0.756443   \n",
       "1    -0.400047        -0.814191           -1.814260        -2.478703   \n",
       "2     0.635309        -1.036867           -2.537095        -1.146584   \n",
       "3     0.065863         0.623079            3.064879         0.280686   \n",
       "4     1.049451         0.238457           -0.368589         1.327351   \n",
       "\n",
       "   free_throws_pct  turnovers   win_pct  home_team  \n",
       "0        -0.102739   0.812673 -0.000316      False  \n",
       "1         1.552383   0.405574 -0.000316       True  \n",
       "2         3.847301  -2.037022  3.100964       True  \n",
       "3        -1.994307   1.626872 -0.000316       True  \n",
       "4        -0.061013  -6.922215  3.100964       True  "
      ]
     },
     "execution_count": 12,
     "metadata": {},
     "output_type": "execute_result"
    }
   ],
   "source": [
    "numeric_feature_to_scale = ['points_game','field_goals_pct','offensive_rebounds','free_throws_att',\n",
    "                'free_throws_pct','turnovers','win_pct']\n",
    "\n",
    "game_data_scale = game_data[numeric_feature_to_scale].copy()\n",
    "scaler =StandardScaler()\n",
    "scaled_features = scaler.fit_transform(game_data_scale.values)\n",
    "scaled_df = pd.DataFrame(scaled_features, index=game_data_scale.index, columns=game_data_scale.columns)\n",
    "\n",
    "# Add the categorical column \n",
    "scaled_df['home_team'] = game_data['home_team']\n",
    "scaled_df.head()"
   ]
  },
  {
   "cell_type": "code",
   "execution_count": 13,
   "metadata": {},
   "outputs": [],
   "source": [
    "X =scaled_df\n",
    "X = pd.get_dummies(X, columns=['home_team'], drop_first=True)\n",
    "y= game_data['game_result'].copy()\n",
    "y = pd.get_dummies(y, columns=['game_result'], drop_first=True)\n",
    "\n",
    "X_train, X_test, y_train, y_test = train_test_split(X, y, test_size=0.2, random_state= 10)"
   ]
  },
  {
   "cell_type": "code",
   "execution_count": 30,
   "metadata": {},
   "outputs": [
    {
     "data": {
      "text/plain": [
       "MLPClassifier(activation='relu', alpha=0.0001, batch_size='auto', beta_1=0.9,\n",
       "       beta_2=0.999, early_stopping=False, epsilon=1e-08,\n",
       "       hidden_layer_sizes=(8, 8, 16, 8), learning_rate='constant',\n",
       "       learning_rate_init=0.001, max_iter=1000, momentum=0.9,\n",
       "       nesterovs_momentum=True, power_t=0.5, random_state=None,\n",
       "       shuffle=True, solver='adam', tol=0.0001, validation_fraction=0.1,\n",
       "       verbose=False, warm_start=False)"
      ]
     },
     "execution_count": 30,
     "metadata": {},
     "output_type": "execute_result"
    }
   ],
   "source": [
    "mlp = MLPClassifier(hidden_layer_sizes=(8,8,16,8),max_iter=1000)\n",
    "mlp.fit(X_train,y_train.WIN)\n"
   ]
  },
  {
   "cell_type": "code",
   "execution_count": 31,
   "metadata": {},
   "outputs": [
    {
     "name": "stdout",
     "output_type": "stream",
     "text": [
      "Neural Net model accuracy is 0.70\n"
     ]
    }
   ],
   "source": [
    "y_pred = mlp.predict(X_test)\n",
    "print(\"Neural Net model accuracy is %2.2f\" % metrics.accuracy_score(y_test, y_pred))"
   ]
  },
  {
   "cell_type": "code",
   "execution_count": 32,
   "metadata": {},
   "outputs": [
    {
     "name": "stdout",
     "output_type": "stream",
     "text": [
      "             precision    recall  f1-score   support\n",
      "\n",
      "          0       0.70      0.76      0.73       540\n",
      "          1       0.70      0.64      0.67       490\n",
      "\n",
      "avg / total       0.70      0.70      0.70      1030\n",
      "\n"
     ]
    }
   ],
   "source": [
    "print(classification_report(y_test,y_pred))  "
   ]
  },
  {
   "cell_type": "code",
   "execution_count": 18,
   "metadata": {},
   "outputs": [],
   "source": []
  },
  {
   "cell_type": "code",
   "execution_count": 19,
   "metadata": {},
   "outputs": [
    {
     "name": "stdout",
     "output_type": "stream",
     "text": [
      "{'n_estimators': [200, 400, 600, 800, 1000, 1200, 1400, 1600, 1800, 2000], 'max_depth': [10, 20, 30, 40, 50, 60, 70, 80, 90, 100, 110, None], 'min_samples_split': [2, 5, 10], 'min_samples_leaf': [1, 2, 4]}\n"
     ]
    }
   ],
   "source": []
  },
  {
   "cell_type": "code",
   "execution_count": 32,
   "metadata": {},
   "outputs": [
    {
     "name": "stdout",
     "output_type": "stream",
     "text": [
      "Fitting 3 folds for each of 100 candidates, totalling 300 fits\n"
     ]
    },
    {
     "name": "stderr",
     "output_type": "stream",
     "text": [
      "[Parallel(n_jobs=-1)]: Done  17 tasks      | elapsed:   14.3s\n",
      "[Parallel(n_jobs=-1)]: Done 138 tasks      | elapsed:  1.6min\n",
      "[Parallel(n_jobs=-1)]: Done 300 out of 300 | elapsed:  3.4min finished\n"
     ]
    },
    {
     "data": {
      "text/plain": [
       "RandomizedSearchCV(cv=3, error_score='raise',\n",
       "          estimator=RandomForestClassifier(bootstrap=True, class_weight=None, criterion='gini',\n",
       "            max_depth=None, max_features='auto', max_leaf_nodes=None,\n",
       "            min_impurity_decrease=0.0, min_impurity_split=None,\n",
       "            min_samples_leaf=1, min_samples_split=2,\n",
       "            min_weight_fraction_leaf=0.0, n_estimators=10, n_jobs=1,\n",
       "            oob_score=False, random_state=None, verbose=0,\n",
       "            warm_start=False),\n",
       "          fit_params=None, iid=True, n_iter=100, n_jobs=-1,\n",
       "          param_distributions={'n_estimators': [200, 400, 600, 800, 1000, 1200, 1400, 1600, 1800, 2000], 'max_depth': [10, 20, 30, 40, 50, 60, 70, 80, 90, 100, 110, None], 'min_samples_split': [2, 5, 10], 'min_samples_leaf': [1, 2, 4]},\n",
       "          pre_dispatch='2*n_jobs', random_state=42, refit=True,\n",
       "          return_train_score='warn', scoring=None, verbose=2)"
      ]
     },
     "execution_count": 32,
     "metadata": {},
     "output_type": "execute_result"
    }
   ],
   "source": [
    "# Use the random grid to search for best hyperparameters\n",
    "# First create the base model to tune\n",
    "rf = RandomForestClassifier()\n",
    "# Random search of parameters, using 3 fold cross validation, \n",
    "# search across 100 different combinations, and use all available cores\n",
    "rf_random = RandomizedSearchCV(estimator = rf, param_distributions = random_grid, n_iter = 100, cv = 3, verbose=2,\n",
    "                               random_state=42, n_jobs = -1)\n",
    "# Fit the random search model\n",
    "rf_random.fit(X_train,  y_train.WIN)\n"
   ]
  },
  {
   "cell_type": "code",
   "execution_count": 33,
   "metadata": {},
   "outputs": [
    {
     "data": {
      "text/plain": [
       "{'n_estimators': 1800,\n",
       " 'min_samples_split': 10,\n",
       " 'min_samples_leaf': 4,\n",
       " 'max_depth': 10}"
      ]
     },
     "execution_count": 33,
     "metadata": {},
     "output_type": "execute_result"
    }
   ],
   "source": [
    "rf_random.best_params_"
   ]
  },
  {
   "cell_type": "code",
   "execution_count": null,
   "metadata": {},
   "outputs": [],
   "source": []
  }
 ],
 "metadata": {
  "kernelspec": {
   "display_name": "Python 3",
   "language": "python",
   "name": "python3"
  },
  "language_info": {
   "codemirror_mode": {
    "name": "ipython",
    "version": 3
   },
   "file_extension": ".py",
   "mimetype": "text/x-python",
   "name": "python",
   "nbconvert_exporter": "python",
   "pygments_lexer": "ipython3",
   "version": "3.6.5"
  }
 },
 "nbformat": 4,
 "nbformat_minor": 2
}
