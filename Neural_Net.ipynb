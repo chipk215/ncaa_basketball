{
 "cells": [
  {
   "cell_type": "code",
   "execution_count": 21,
   "metadata": {},
   "outputs": [],
   "source": [
    "import pandas as pd\n",
    "import numpy as np\n",
    "import matplotlib.pyplot as plt\n",
    "import seaborn as sns\n",
    "from sklearn import metrics\n",
    "from sklearn.model_selection import train_test_split\n",
    "from sklearn.preprocessing import StandardScaler\n",
    "from sklearn.neural_network import MLPClassifier\n",
    "from sklearn.metrics import classification_report,confusion_matrix\n"
   ]
  },
  {
   "cell_type": "code",
   "execution_count": 34,
   "metadata": {},
   "outputs": [
    {
     "name": "stdout",
     "output_type": "stream",
     "text": [
      "Number of records=  5149\n",
      "<class 'pandas.core.frame.DataFrame'>\n",
      "RangeIndex: 5149 entries, 0 to 5148\n",
      "Data columns (total 15 columns):\n",
      "game_id                      5149 non-null object\n",
      "game_date                    5149 non-null object\n",
      "principal_team               5149 non-null object\n",
      "opponent_team                5149 non-null object\n",
      "home_team                    5149 non-null bool\n",
      "principal_score              5149 non-null int64\n",
      "opponent_score               5149 non-null int64\n",
      "delta_avg_points_per_game    5149 non-null float64\n",
      "delta_field_goals_pct        5149 non-null float64\n",
      "delta_avg_off_rebounds       5149 non-null float64\n",
      "delta_avg_free_throws_att    5149 non-null float64\n",
      "delta_avg_free_throws_pct    5149 non-null float64\n",
      "delta_avg_turnovers          5149 non-null float64\n",
      "delta_win_pct                5149 non-null float64\n",
      "game_result                  5149 non-null object\n",
      "dtypes: bool(1), float64(7), int64(2), object(5)\n",
      "memory usage: 568.3+ KB\n"
     ]
    }
   ],
   "source": [
    "game_data = pd.read_csv('D1_2015_Processed_Stats.csv')\n",
    "print(\"Number of records= \", game_data.shape[0])\n",
    "game_data.info()"
   ]
  },
  {
   "cell_type": "code",
   "execution_count": 35,
   "metadata": {},
   "outputs": [
    {
     "data": {
      "text/html": [
       "<div>\n",
       "<style scoped>\n",
       "    .dataframe tbody tr th:only-of-type {\n",
       "        vertical-align: middle;\n",
       "    }\n",
       "\n",
       "    .dataframe tbody tr th {\n",
       "        vertical-align: top;\n",
       "    }\n",
       "\n",
       "    .dataframe thead th {\n",
       "        text-align: right;\n",
       "    }\n",
       "</style>\n",
       "<table border=\"1\" class=\"dataframe\">\n",
       "  <thead>\n",
       "    <tr style=\"text-align: right;\">\n",
       "      <th></th>\n",
       "      <th>delta_avg_off_rebounds</th>\n",
       "      <th>delta_avg_turnovers</th>\n",
       "      <th>home_team</th>\n",
       "      <th>delta_field_goals_pct</th>\n",
       "      <th>delta_avg_free_throws_pct</th>\n",
       "      <th>delta_win_pct</th>\n",
       "    </tr>\n",
       "  </thead>\n",
       "  <tbody>\n",
       "    <tr>\n",
       "      <th>0</th>\n",
       "      <td>-1.091424</td>\n",
       "      <td>0.812673</td>\n",
       "      <td>False</td>\n",
       "      <td>0.075</td>\n",
       "      <td>-0.008</td>\n",
       "      <td>0.0</td>\n",
       "    </tr>\n",
       "    <tr>\n",
       "      <th>1</th>\n",
       "      <td>-1.814260</td>\n",
       "      <td>0.405574</td>\n",
       "      <td>True</td>\n",
       "      <td>-0.041</td>\n",
       "      <td>0.111</td>\n",
       "      <td>0.0</td>\n",
       "    </tr>\n",
       "    <tr>\n",
       "      <th>2</th>\n",
       "      <td>-2.537095</td>\n",
       "      <td>-2.037022</td>\n",
       "      <td>True</td>\n",
       "      <td>-0.052</td>\n",
       "      <td>0.276</td>\n",
       "      <td>1.0</td>\n",
       "    </tr>\n",
       "    <tr>\n",
       "      <th>3</th>\n",
       "      <td>3.064879</td>\n",
       "      <td>1.626872</td>\n",
       "      <td>True</td>\n",
       "      <td>0.030</td>\n",
       "      <td>-0.144</td>\n",
       "      <td>0.0</td>\n",
       "    </tr>\n",
       "    <tr>\n",
       "      <th>4</th>\n",
       "      <td>-0.368589</td>\n",
       "      <td>-6.922215</td>\n",
       "      <td>True</td>\n",
       "      <td>0.011</td>\n",
       "      <td>-0.005</td>\n",
       "      <td>1.0</td>\n",
       "    </tr>\n",
       "  </tbody>\n",
       "</table>\n",
       "</div>"
      ],
      "text/plain": [
       "   delta_avg_off_rebounds  delta_avg_turnovers  home_team  \\\n",
       "0               -1.091424             0.812673      False   \n",
       "1               -1.814260             0.405574       True   \n",
       "2               -2.537095            -2.037022       True   \n",
       "3                3.064879             1.626872       True   \n",
       "4               -0.368589            -6.922215       True   \n",
       "\n",
       "   delta_field_goals_pct  delta_avg_free_throws_pct  delta_win_pct  \n",
       "0                  0.075                     -0.008            0.0  \n",
       "1                 -0.041                      0.111            0.0  \n",
       "2                 -0.052                      0.276            1.0  \n",
       "3                  0.030                     -0.144            0.0  \n",
       "4                  0.011                     -0.005            1.0  "
      ]
     },
     "execution_count": 35,
     "metadata": {},
     "output_type": "execute_result"
    }
   ],
   "source": [
    "numeric_feature_to_scale = ['delta_avg_points_per_game','delta_avg_off_rebounds','delta_avg_free_throws_att','delta_avg_turnovers']\n",
    "\n",
    "game_data_scale = game_data[numeric_feature_to_scale].copy()\n",
    "scaler =StandardScaler()\n",
    "scaled_features = scaler.fit_transform(game_data_scale.values)\n",
    "scaled_df = pd.DataFrame(scaled_features, index=game_data_scale.index, columns=game_data_scale.columns)\n",
    "\n",
    "# Add the categorical column \n",
    "scaled_df['home_team'] = game_data['home_team']\n",
    "scaled_df['delta_field_goals_pct'] = game_data['delta_field_goals_pct']\n",
    "scaled_df['delta_avg_free_throws_pct'] = game_data['delta_avg_free_throws_pct']\n",
    "\n",
    "scaled_df['delta_win_pct'] = game_data['delta_win_pct']\n",
    "\n",
    "scaled_df.drop(columns=['delta_avg_points_per_game', 'delta_avg_free_throws_att'],inplace=True)\n",
    "scaled_df.head()"
   ]
  },
  {
   "cell_type": "code",
   "execution_count": 36,
   "metadata": {},
   "outputs": [],
   "source": [
    "X =scaled_df\n",
    "X = pd.get_dummies(X, columns=['home_team'], drop_first=True)\n",
    "y= game_data['game_result'].copy()\n",
    "y = pd.get_dummies(y, columns=['game_result'], drop_first=True)\n",
    "y=y.WIN\n",
    "X_train, X_test, y_train, y_test = train_test_split(X, y, test_size=0.2, random_state= 10)"
   ]
  },
  {
   "cell_type": "markdown",
   "metadata": {},
   "source": [
    "mlp = MLPClassifier(hidden_layer_sizes=(8,16,8),max_iter=1000)\n",
    "mlp.fit(X_train,y_train)\n"
   ]
  },
  {
   "cell_type": "code",
   "execution_count": 40,
   "metadata": {},
   "outputs": [
    {
     "name": "stdout",
     "output_type": "stream",
     "text": [
      "Neural Net model accuracy is 0.70\n"
     ]
    }
   ],
   "source": [
    "y_pred = mlp.predict(X_test)\n",
    "print(\"Neural Net model accuracy is %2.2f\" % metrics.accuracy_score(y_test, y_pred))"
   ]
  },
  {
   "cell_type": "code",
   "execution_count": 42,
   "metadata": {},
   "outputs": [
    {
     "name": "stdout",
     "output_type": "stream",
     "text": [
      "             precision    recall  f1-score   support\n",
      "\n",
      "          0       0.71      0.71      0.71       540\n",
      "          1       0.68      0.68      0.68       490\n",
      "\n",
      "avg / total       0.70      0.70      0.70      1030\n",
      "\n"
     ]
    }
   ],
   "source": [
    "print(classification_report(y_test,y_pred))  "
   ]
  },
  {
   "cell_type": "code",
   "execution_count": 18,
   "metadata": {},
   "outputs": [],
   "source": []
  },
  {
   "cell_type": "code",
   "execution_count": null,
   "metadata": {},
   "outputs": [],
   "source": []
  }
 ],
 "metadata": {
  "kernelspec": {
   "display_name": "Python 3",
   "language": "python",
   "name": "python3"
  },
  "language_info": {
   "codemirror_mode": {
    "name": "ipython",
    "version": 3
   },
   "file_extension": ".py",
   "mimetype": "text/x-python",
   "name": "python",
   "nbconvert_exporter": "python",
   "pygments_lexer": "ipython3",
   "version": "3.6.5"
  }
 },
 "nbformat": 4,
 "nbformat_minor": 2
}
